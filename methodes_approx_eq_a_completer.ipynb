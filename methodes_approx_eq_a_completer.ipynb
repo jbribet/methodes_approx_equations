{
 "cells": [
  {
   "cell_type": "markdown",
   "metadata": {},
   "source": [
    "# Méthodes d'approximation d'une solution d'une équation du type $f(x)=a$"
   ]
  },
  {
   "cell_type": "markdown",
   "metadata": {},
   "source": [
    "## Définition de la fonction $f$"
   ]
  },
  {
   "cell_type": "markdown",
   "metadata": {},
   "source": [
    "On va commencer par définir une fonction `f` qui prend un nombre `x` comme argument et retourne la valeur de $f(x)$ correspondant à l'équation que l'on souhaite étudier. On peut toujours se ramener à une équation du type $f(x)=0$ car $f(x)=a \\Longleftrightarrow f(x)-a=0$. Par exemple, on peut chercher à résoudre $x^4-3x^3+2x+1=0$."
   ]
  },
  {
   "cell_type": "code",
   "execution_count": null,
   "metadata": {},
   "outputs": [],
   "source": [
    "def f(x) :\n",
    "    return x**4-5*x**3+2*x+1"
   ]
  },
  {
   "cell_type": "markdown",
   "metadata": {},
   "source": [
    "Voici un code permettant d'obtenir une représentation de la fonction $f$. Tu peux constater que l'on importe deux bibliothèques spécifiques `matplotlib` et `numpy`."
   ]
  },
  {
   "cell_type": "code",
   "execution_count": null,
   "metadata": {},
   "outputs": [],
   "source": [
    "%matplotlib inline\n",
    "import matplotlib.pyplot as plt\n",
    "a=-5\n",
    "b=5\n",
    "points = 200\n",
    "X=[-5+k*(b-a)/points for k in range(points)]\n",
    "Y=[f(x) for x in X]\n",
    "Z=[0 for k in range(points)]\n",
    "plt.xlim(a,b)\n",
    "plt.ylim(-10,10)\n",
    "plt.title(\"Courbe représentative de la fonction f\")\n",
    "plt.plot(X,Y)\n",
    "plt.plot(X,Z)\n"
   ]
  },
  {
   "cell_type": "markdown",
   "metadata": {},
   "source": [
    "On peut conjecturer l'existence d'une solution est l'encadrer entre deux nombres entiers (la justification pourrait se faire grâce au théorème des valeurs intermédiaires)."
   ]
  },
  {
   "cell_type": "markdown",
   "metadata": {},
   "source": [
    "## Méthode de balayage"
   ]
  },
  {
   "cell_type": "markdown",
   "metadata": {},
   "source": [
    "On part d'une valeur de $x=x_0$ et on augmente $x$ de la valeur d'un pas $p$ tant que $f(x)$ et $f(x+p)$ sont du même signe. Ce qui donne en partant de x=0 et avec un pas de 0.1 : "
   ]
  },
  {
   "cell_type": "code",
   "execution_count": null,
   "metadata": {},
   "outputs": [],
   "source": [
    "x = 0\n",
    "pas = 0.1\n",
    "while  : # Complète avec le test à effectuer.\n",
    "    x = #Complète avec la nouvelle valeur de x.\n",
    "print(x)"
   ]
  },
  {
   "cell_type": "markdown",
   "metadata": {},
   "source": [
    "La valeur de $x$ obtenue est elle une valeur approchée par excès ou par défaut de la solution ?"
   ]
  },
  {
   "cell_type": "markdown",
   "metadata": {},
   "source": []
  },
  {
   "cell_type": "markdown",
   "metadata": {},
   "source": [
    "Si on veut une précision plus grande, on diminue considérablement le nombre de calcul en réduisant le pas petit à petit et en recalculant une nouvelle valeur de $x_0$ à chaque changement de pas. Par exemple, pour une précision à $10^{-3}$, on peut commencer avec une précision à $10^{-0}$ puis à $10^{-1}$ puis à $10^{-2}$ et enfin à $10^{-3}$ :"
   ]
  },
  {
   "cell_type": "code",
   "execution_count": null,
   "metadata": {},
   "outputs": [],
   "source": [
    "p = 5\n",
    "x = 0\n",
    "for k in range() : #Complète avec la bonne amplitude pour le range\n",
    "    pas = 10**(-k)\n",
    "    while  > 0 : # Complète avec le test à effectuer.\n",
    "        x = #Complète avec la nouvelle valeur de x.\n",
    "    print(x)"
   ]
  },
  {
   "cell_type": "markdown",
   "metadata": {},
   "source": [
    "## Méthode par dichotomie"
   ]
  },
  {
   "cell_type": "markdown",
   "metadata": {},
   "source": [
    "On part d'un premier encadrement de la solution entre deux nombres $a$ et $b$ avec $a<b$. On teste si l'image par $f$ du centre de l'intervalle $\\dfrac{a+b}{2}$ est du même signe que $f(a)$. Si oui, on sait que la solution est entre  $\\dfrac{a+b}{2}$ et $b$ ce qui nous donne une nouvelle valeur pour $a$ et si non, on sait que la solution est entre  $a$ et $\\dfrac{a+b}{2}$ ce qui nous donne une nouvelle valeur pour $b$. On répète ce procédé tant que $b-a$ n'est pas inférieur à la précision souhaitée."
   ]
  },
  {
   "cell_type": "code",
   "execution_count": null,
   "metadata": {},
   "outputs": [],
   "source": [
    "a = 0\n",
    "b = 2\n",
    "precision= 0.0001\n",
    "while b-a>precision :\n",
    "    if >0 :  # Complète avec le test à effectuer.\n",
    "        a =  # Complète avec la nouvelle valeur de a.\n",
    "    else :\n",
    "        b = # Complète avec la nouvelle valeur de b.\n",
    "    print('b-a = ', b-a)\n",
    "    print('[',a,';',b,']')"
   ]
  },
  {
   "cell_type": "markdown",
   "metadata": {},
   "source": []
  }
 ],
 "metadata": {
  "kernelspec": {
   "display_name": "Python 3",
   "language": "python",
   "name": "python3"
  },
  "language_info": {
   "codemirror_mode": {
    "name": "ipython",
    "version": 3
   },
   "file_extension": ".py",
   "mimetype": "text/x-python",
   "name": "python",
   "nbconvert_exporter": "python",
   "pygments_lexer": "ipython3",
   "version": "3.6.5"
  }
 },
 "nbformat": 4,
 "nbformat_minor": 2
}
